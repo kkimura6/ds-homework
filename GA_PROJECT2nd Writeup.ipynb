{
 "cells": [
  {
   "cell_type": "markdown",
   "metadata": {},
   "source": [
    "# Well-articulated problem statement with \"specific aim\" and hypothesis, based on your lightning talk\n",
    "\n",
    "The dataset that I'm going to use have two channels in the dataset, News and Stock data. \n",
    "\n",
    "News Data: crawled from news headlines from Reddit WorldNews Channel, ranked by reddit users vote and picked Top 25 of them.(Ranging from 06-08-2008 to 07-01-2016)\n",
    "\n",
    "Stock Data: Dow Jones Industrial Average(DJIA) is used to prove the concept (Ranging from 06-08-2008 to 07-01-2016). This is a binary data either 1 or 0. 1 means DJIA was up or stayed the same. O means DJIA was down\n",
    "\n",
    "Objective here is to see if I can make market prediction (DJIA up or down) using above dataset and create some machine learning algorithm"
   ]
  },
  {
   "cell_type": "markdown",
   "metadata": {},
   "source": [
    "## An outline of any potential methods and models\n",
    "\n",
    "I will be using Logistic regression and Multinomial Naive Bayes model for market predictions. also changing default tuning for CountVectorizer to see if I can get bettter predictions such as n-grams.."
   ]
  },
  {
   "cell_type": "markdown",
   "metadata": {},
   "source": [
    "## Detailed explanation of extant data available\n",
    "\n",
    "News Data: crawled from news headlines from Reddit WorldNews Channel, ranked by reddit users vote and picked Top 25 of them.(Ranging from 06-08-2008 to 07-01-2016)\n",
    "\n",
    "Stock Data: Dow Jones Industrial Average(DJIA) is used to prove the concept (Ranging from 06-08-2008 to 07-01-2016). This is a binary data either 1 or 0. 1 means DJIA was up or stayed the same. O means DJIA was down\n",
    "\n",
    "If possible, I would like to create my own dataset, similar to what I have here: Using AAPL US (APPLE) stock movement as a binary data, and AAPL related News headlines last 10 quarters to see if we can make predictions on AAPL stock movement, and also what words appears most when stock price moves. for instance, 'Earning', 'Dividend, 'Revision', 'Inventory', 'Supplier' and such"
   ]
  },
  {
   "cell_type": "markdown",
   "metadata": {},
   "source": [
    "## Describe any outstanding questions, assumptions, risks, caveats\n",
    "\n",
    "* How to consolidate Top25 headlines each day to Vectorize and also how to split into train and test data\n",
    "* Picked Top 25 news could be biased\n",
    "* Probably should be using information one day prior to see the true prediction of market, assuming the market is  \n",
    "  efficient enough on digest new information\n"
   ]
  },
  {
   "cell_type": "markdown",
   "metadata": {},
   "source": [
    "## Define your goals and criteria, explain what success looks like\n",
    "\n",
    "\n",
    "The objective here is to do some market predictions based on the dataset that I have and also create some simple machine algorithm. More importantly, I could apply this methodoloty to differenct senarios, related to my work.\n",
    "If possible, I would like to create my own dataset, similar to what I have here: Using AAPL US (APPLE) stock movement as a binary data, and AAPL related News headlines last 10 quarters to see if we can make predictions on AAPL stock movement, and also what words appears most when stock price moves. for instance, 'Earning', 'Dividend, 'Revision', 'Inventory', 'Supplier' and such"
   ]
  },
  {
   "cell_type": "markdown",
   "metadata": {},
   "source": [
    "## Demonstrate domain knowledge, including features or benchmarks from similar projects\n",
    "\n",
    "pls see 'GA_PROJECT3 ver1' for whatever I have done so far\n",
    "\n"
   ]
  },
  {
   "cell_type": "markdown",
   "metadata": {},
   "source": [
    "## (BONUS)  Consider alternative hypotheses: if your project is a regression problem, \n",
    "## is it possible to rewrite it as a classification problem?"
   ]
  },
  {
   "cell_type": "markdown",
   "metadata": {},
   "source": [
    "## (BONUS) \"Convert\" your goal metric from a statistical one (like Mean Squared Error) \n",
    "\n",
    "##and tie it to something non-data people can understand, like a cost/benefit analysis, etc."
   ]
  },
  {
   "cell_type": "code",
   "execution_count": 4,
   "metadata": {
    "collapsed": false
   },
   "outputs": [
    {
     "data": {
      "text/plain": [
       "u'/Users/kazuhirokimura/DAT-NYC-43/classes'"
      ]
     },
     "execution_count": 4,
     "metadata": {},
     "output_type": "execute_result"
    }
   ],
   "source": [
    "pwd"
   ]
  },
  {
   "cell_type": "code",
   "execution_count": null,
   "metadata": {
    "collapsed": true
   },
   "outputs": [],
   "source": []
  },
  {
   "cell_type": "code",
   "execution_count": null,
   "metadata": {
    "collapsed": true
   },
   "outputs": [],
   "source": []
  }
 ],
 "metadata": {
  "kernelspec": {
   "display_name": "Python [default]",
   "language": "python",
   "name": "python2"
  },
  "language_info": {
   "codemirror_mode": {
    "name": "ipython",
    "version": 2
   },
   "file_extension": ".py",
   "mimetype": "text/x-python",
   "name": "python",
   "nbconvert_exporter": "python",
   "pygments_lexer": "ipython2",
   "version": "2.7.12"
  }
 },
 "nbformat": 4,
 "nbformat_minor": 1
}
